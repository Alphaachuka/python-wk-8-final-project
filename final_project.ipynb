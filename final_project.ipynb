{
 "cells": [
  {
   "cell_type": "markdown",
   "id": "fe486a4d",
   "metadata": {},
   "source": [
    "Step 1: Set up the Jupyter Notebook"
   ]
  },
  {
   "cell_type": "markdown",
   "id": "6606a68a",
   "metadata": {},
   "source": [
    "Import Libraries"
   ]
  },
  {
   "cell_type": "code",
   "execution_count": 1,
   "id": "01907d61",
   "metadata": {},
   "outputs": [],
   "source": [
    "#Import necessary libraries\n",
    "import pandas as pd\n",
    "import numpy as np\n",
    "import matplotlib.pyplot as plt\n",
    "\n",
    "# to display plots inside the notebook\n",
    "%matplotlib inline"
   ]
  },
  {
   "cell_type": "markdown",
   "id": "f3274637",
   "metadata": {},
   "source": [
    "Load Dataset"
   ]
  },
  {
   "cell_type": "code",
   "execution_count": 2,
   "id": "76795f97",
   "metadata": {},
   "outputs": [
    {
     "data": {
      "application/vnd.microsoft.datawrangler.viewer.v0+json": {
       "columns": [
        {
         "name": "index",
         "rawType": "int64",
         "type": "integer"
        },
        {
         "name": "cord_uid",
         "rawType": "object",
         "type": "string"
        },
        {
         "name": "sha",
         "rawType": "object",
         "type": "unknown"
        },
        {
         "name": "source_x",
         "rawType": "object",
         "type": "string"
        },
        {
         "name": "title",
         "rawType": "object",
         "type": "string"
        },
        {
         "name": "doi",
         "rawType": "object",
         "type": "string"
        },
        {
         "name": "pmcid",
         "rawType": "object",
         "type": "string"
        },
        {
         "name": "pubmed_id",
         "rawType": "object",
         "type": "unknown"
        },
        {
         "name": "license",
         "rawType": "object",
         "type": "string"
        },
        {
         "name": "abstract",
         "rawType": "object",
         "type": "string"
        },
        {
         "name": "publish_time",
         "rawType": "object",
         "type": "string"
        },
        {
         "name": "authors",
         "rawType": "object",
         "type": "string"
        },
        {
         "name": "journal",
         "rawType": "object",
         "type": "unknown"
        },
        {
         "name": "mag_id",
         "rawType": "float64",
         "type": "float"
        },
        {
         "name": "who_covidence_id",
         "rawType": "object",
         "type": "unknown"
        },
        {
         "name": "arxiv_id",
         "rawType": "object",
         "type": "unknown"
        },
        {
         "name": "pdf_json_files",
         "rawType": "object",
         "type": "unknown"
        },
        {
         "name": "pmc_json_files",
         "rawType": "object",
         "type": "string"
        },
        {
         "name": "url",
         "rawType": "object",
         "type": "string"
        },
        {
         "name": "s2_id",
         "rawType": "float64",
         "type": "float"
        }
       ],
       "ref": "bf5878b4-491e-4b0a-b298-77309d65b1c3",
       "rows": [
        [
         "0",
         "btb0y11u",
         "22157ea7b67731d48e7a0b4f08741d0d6337d84d",
         "PMC",
         "Implementation of Procedure-Specific Opioid Guidelines: A Readily Employable Strategy to Improve Consistency and Decrease Excessive Prescribing Following Orthopaedic Surgery",
         "10.2106/jbjs.oa.19.00050",
         "PMC7147632",
         "32309760",
         "cc-by-nc-nd",
         "BACKGROUND: Evidence-based, procedure-specific guidelines for prescribing opioids are urgently needed to optimize pain relief while minimizing excessive opioid prescribing and potential opioid diversion in our communities. A multidisciplinary panel at our institution recently developed procedure-specific guidelines for discharge opioid prescriptions for common orthopaedic surgical procedures. The purpose of this study was to evaluate postoperative opioid prescription quantities, variability, and 30-day refill rates before and after implementation of the guidelines. METHODS: This retrospective cohort study was conducted at a single academic institution from December 2016 to March 2018. Guidelines were implemented on August 1, 2017, with a recommended maximum opioid prescription quantity for 14 common orthopaedic procedures. Patients who underwent these 14 procedures during the period of December 2016 to May 2017 made up the pre-guideline cohort (n = 2,223), and patients who underwent these procedures from October 2017 to March 2018 made up the post-guideline cohort (n = 2,300). Opioid prescription quantities were reported as oral morphine equivalents (OME), with medians and interquartile ranges (IQRs). Four levels were established for recommended prescription maximums, ranging from 100 to 400 OME. RESULTS: In the pre-guideline cohort, the median amount of prescribed opioids across all procedures was 600 OME (IQR, 390 to 863 OME), which decreased by 38% in the post-guideline period, to a median of 375 OME (IQR, 239 to 400 OME) in the post-guideline cohort (p < 0.001). The 30-day refill rate did not change significantly, from a rate of 24% in the pre-guideline cohort to 25% in the post-guideline cohort (p = 0.43). Multivariable analysis demonstrated that guideline implementation was the factor most strongly associated with prescriptions exceeding guideline maximums (odds ratio [OR] = 9.9; p < 0.001). Age groups of <80 years (OR = 2.0 to 2.4; p < 0.001) and males (OR = 1.2; p = 0.025) were also shown to have higher odds of exceeding guideline maximums. CONCLUSIONS: Procedure-specific guidelines are capable of substantially decreasing opioid prescription amounts and variability. Furthermore, the absence of change in refill rates suggests that pain control remains similar to pre-guideline prescribing practices. Evidence-based guidelines are a readily employable solution that can drive rapid change in practice and enhance the ability of orthopaedic surgeons to provide responsible pain management.",
         "2020-03-03",
         "Wyles, Cody C.; Hevesi, Mario; Ubl, Daniel S.; Habermann, Elizabeth B.; Gazelka, Halena M.; Trousdale, Robert T.; Turner, Norman S.; Pagnano, Mark W.; Mabry, Tad M.",
         "JB JS Open Access",
         "3011605437.0",
         null,
         null,
         "document_parses/pdf_json/22157ea7b67731d48e7a0b4f08741d0d6337d84d.json",
         "document_parses/pmc_json/PMC7147632.xml.json",
         "https://www.ncbi.nlm.nih.gov/pmc/articles/PMC7147632/",
         null
        ],
        [
         "1",
         "7t3och3v",
         null,
         "PMC",
         "Development and Clinical Evaluation of a Web-Based Upper Limb Home Rehabilitation System Using a Smartwatch and Machine Learning Model for Chronic Stroke Survivors: Prospective Comparative Study",
         "10.2196/17216",
         "PMC7380903",
         "32480361",
         "cc-by",
         "BACKGROUND: Recent advancements in wearable sensor technology have shown the feasibility of remote physical therapy at home. In particular, the current COVID-19 pandemic has revealed the need and opportunity of internet-based wearable technology in future health care systems. Previous research has shown the feasibility of human activity recognition technologies for monitoring rehabilitation activities in home environments; however, few comprehensive studies ranging from development to clinical evaluation exist. OBJECTIVE: This study aimed to (1) develop a home-based rehabilitation (HBR) system that can recognize and record the type and frequency of rehabilitation exercises conducted by the user using a smartwatch and smartphone app equipped with a machine learning (ML) algorithm and (2) evaluate the efficacy of the home-based rehabilitation system through a prospective comparative study with chronic stroke survivors. METHODS: The HBR system involves an off-the-shelf smartwatch, a smartphone, and custom-developed apps. A convolutional neural network was used to train the ML algorithm for detecting home exercises. To determine the most accurate way for detecting the type of home exercise, we compared accuracy results with the data sets of personal or total data and accelerometer, gyroscope, or accelerometer combined with gyroscope data. From March 2018 to February 2019, we conducted a clinical study with two groups of stroke survivors. In total, 17 and 6 participants were enrolled for statistical analysis in the HBR group and control group, respectively. To measure clinical outcomes, we performed the Wolf Motor Function Test (WMFT), Fugl-Meyer Assessment of Upper Extremity, grip power test, Beck Depression Inventory, and range of motion (ROM) assessment of the shoulder joint at 0, 6, and 12 months, and at a follow-up assessment 6 weeks after retrieving the HBR system. RESULTS: The ML model created with personal data involving accelerometer combined with gyroscope data (5590/5601, 99.80%) was the most accurate compared with accelerometer (5496/5601, 98.13%) or gyroscope data (5381/5601, 96.07%). In the comparative study, the drop-out rates in the control and HBR groups were 40% (4/10) and 22% (5/22) at 12 weeks and 100% (10/10) and 45% (10/22) at 18 weeks, respectively. The HBR group (n=17) showed a significant improvement in the mean WMFT score (P=.02) and ROM of flexion (P=.004) and internal rotation (P=.001). The control group (n=6) showed a significant change only in shoulder internal rotation (P=.03). CONCLUSIONS: This study found that a home care system using a commercial smartwatch and ML model can facilitate participation in home training and improve the functional score of the WMFT and shoulder ROM of flexion and internal rotation in the treatment of patients with chronic stroke. This strategy can possibly be a cost-effective tool for the home care treatment of stroke survivors in the future. TRIAL REGISTRATION: Clinical Research Information Service KCT0004818; https://tinyurl.com/y92w978t",
         "2020-07-09",
         "Chae, Sang Hoon; Kim, Yushin; Lee, Kyoung-Soub; Park, Hyung-Soon",
         "JMIR Mhealth Uhealth",
         "3024384408.0",
         null,
         null,
         null,
         "document_parses/pmc_json/PMC7380903.xml.json",
         "https://www.ncbi.nlm.nih.gov/pmc/articles/PMC7380903/",
         null
        ],
        [
         "2",
         "h5jfrj2p",
         "02d0ce9f28d04f69024ffbace2a931a05cb44555",
         "PMC",
         "Genetic characterization of the spike gene of porcine epidemic diarrhea viruses (PEDVs) circulating in Vietnam from 2015 to 2016",
         "10.1002/vms3.256",
         "PMC7397879",
         "32159913",
         "cc-by-nc-nd",
         "BACKGROUND: Porcine epidemic diarrhea (PED) is a highly contagious swine disease caused by the PED virus (PEDV), which is a member of the family Coronaviridae. Since the first outbreaks in Belgium and the United Kingdom were reported in 1971, PED has spread throughout many countries around the world and causing significant economic loss. This study was conducted to investigate the recent distribution of PEDV strains in Vietnam during the 2015–2016 seasons. METHODS: A total of 30 PED‐specific PCR‐positive intestinal and faecal samples were collected from unvaccinated piglets in Vietnam during the 2015–2016 seasons. The full length of the spike (S) gene of these PEDV strains were analysed to determine their phylogeny and genetic relationship with other available PEDV strains globally. RESULTS: Phylogenetic analysis of the complete S gene sequences revealed that the 28 Vietnamese PEDV strains collected in the northern and central regions clustered in the G2 group (both G2a and G2b sub‐groups), while the other 2 PEDV strains (HUA‐PED176 and HUA‐PED254) collected in the southern region were clustered in the G1/G1b group/sub‐group. The nucleotide (nt) and deduced amino acid (aa) analyses based on the complete S gene sequences showed that the Vietnamese PEDV strains were closely related to each other, sharing nt and aa homology of 93.2%–99.9% and 92.6%–99.9%, respectively. The N‐glycosylation patterns and mutations in the antigenic region were observed in Vietnamese PEDV strains. CONCLUSIONS: This study provides, for the first time, up‐to‐date information on viral circulation and genetic distribution, as well as evidence to assist in the development of effective PEDV vaccines in Vietnam.",
         "2020-03-11",
         "Than, Van T.; Choe, Se‐Eun; Vu, Thi T. H.; Do, Tien D.; Nguyen, Thi L.; Bui, Thi T. N.; Mai, Thi N.; Cha, Ra M.; Song, Daesub; An, Dong‐Jun; Le, Van P.",
         "Vet Med Sci",
         "3010941056.0",
         null,
         null,
         "document_parses/pdf_json/02d0ce9f28d04f69024ffbace2a931a05cb44555.json",
         "document_parses/pmc_json/PMC7397879.xml.json",
         "https://www.ncbi.nlm.nih.gov/pmc/articles/PMC7397879/",
         null
        ],
        [
         "3",
         "grzrkff9",
         null,
         "PMC",
         "Dermatological Manifestations in Patients With SARS-CoV-2: A Systematic Review",
         "10.7759/cureus.9446",
         "PMC7402433",
         null,
         "cc-by",
         "Severe acute respiratory syndrome coronavirus 2 (SARS-CoV-2) has been initially defined as a disease of the respiratory tract; however, with the increasing number of patients and announcing that the virus became a pandemic, new systemic clinical manifestations are observed, including dermatological manifestations. However, the identification and characteristics of these manifestations are still controversial. This review article aims to evaluate the medical literature and explore the dermatological clinical manifestations in patients with SARS-CoV-2. The literature was reviewed through MEDLINE®, Ovid, PubMed®, and Embase®. Searching terms included were a combination of \"dermatological\" OR \"skin\" AND \"symptoms\" OR \"manifestations\" AND \"SARS-CoV-2\". The following step was filtering the results to include only original research studies investigating the different types of skin and dermatological clinical manifestations in patients with SARS-CoV-2. A total of 879 studies were retrieved. Following the exclusion of studies on animals and including only studies on humans, 32 studies emerged. Altogether, seven studies were identified as eligible, covering 555 patients with SARS-CoV-2 who had dermatological symptoms. Three studies were retrospective, two studies were prospective, and two studies were case series. Different types of dermatological lesions can occur in patients with SARS-CoV-2, most commonly erythema, urticaria, and varicella-like rash. Dermatological manifestations with SARS-CoV-2 can be misdiagnosed with other conditions. Further studies with robust design are needed.",
         "2020-07-28",
         "Almutairi, Abdulelah; Alfaleh, Mohammed; Alasheikh, Muath",
         null,
         "3046185579.0",
         null,
         null,
         null,
         "document_parses/pmc_json/PMC7402433.xml.json",
         "https://www.ncbi.nlm.nih.gov/pmc/articles/PMC7402433/",
         null
        ],
        [
         "4",
         "jyq76m81",
         null,
         "PMC",
         "COVID-19: Reduced Lung Function and Increased Psycho-emotional Stress",
         "10.6026/97320630016293",
         "PMC7392087",
         null,
         "cc-by",
         "The COVID-19 outbreak causing reduced lung function and increased psycho-emotional stress in the community worldwide. Therefore, it is of interest to document such viral outbreak related emotional stress data in the community with known molecular and patho-physiological parameters of the affected individuals. We provide a concise, coherent, critical, precise, specific and direct narration of such events from a community research viewpoint using known molecular data in this editorial.",
         "2020-04-30",
         "Wu, Dongyuan; Ellis, Dorothy; Datta, Susmita",
         "Bioinformation",
         "3015175484.0",
         null,
         null,
         null,
         "document_parses/pmc_json/PMC7392087.xml.json",
         "https://www.ncbi.nlm.nih.gov/pmc/articles/PMC7392087/",
         null
        ]
       ],
       "shape": {
        "columns": 19,
        "rows": 5
       }
      },
      "text/html": [
       "<div>\n",
       "<style scoped>\n",
       "    .dataframe tbody tr th:only-of-type {\n",
       "        vertical-align: middle;\n",
       "    }\n",
       "\n",
       "    .dataframe tbody tr th {\n",
       "        vertical-align: top;\n",
       "    }\n",
       "\n",
       "    .dataframe thead th {\n",
       "        text-align: right;\n",
       "    }\n",
       "</style>\n",
       "<table border=\"1\" class=\"dataframe\">\n",
       "  <thead>\n",
       "    <tr style=\"text-align: right;\">\n",
       "      <th></th>\n",
       "      <th>cord_uid</th>\n",
       "      <th>sha</th>\n",
       "      <th>source_x</th>\n",
       "      <th>title</th>\n",
       "      <th>doi</th>\n",
       "      <th>pmcid</th>\n",
       "      <th>pubmed_id</th>\n",
       "      <th>license</th>\n",
       "      <th>abstract</th>\n",
       "      <th>publish_time</th>\n",
       "      <th>authors</th>\n",
       "      <th>journal</th>\n",
       "      <th>mag_id</th>\n",
       "      <th>who_covidence_id</th>\n",
       "      <th>arxiv_id</th>\n",
       "      <th>pdf_json_files</th>\n",
       "      <th>pmc_json_files</th>\n",
       "      <th>url</th>\n",
       "      <th>s2_id</th>\n",
       "    </tr>\n",
       "  </thead>\n",
       "  <tbody>\n",
       "    <tr>\n",
       "      <th>0</th>\n",
       "      <td>btb0y11u</td>\n",
       "      <td>22157ea7b67731d48e7a0b4f08741d0d6337d84d</td>\n",
       "      <td>PMC</td>\n",
       "      <td>Implementation of Procedure-Specific Opioid Gu...</td>\n",
       "      <td>10.2106/jbjs.oa.19.00050</td>\n",
       "      <td>PMC7147632</td>\n",
       "      <td>32309760</td>\n",
       "      <td>cc-by-nc-nd</td>\n",
       "      <td>BACKGROUND: Evidence-based, procedure-specific...</td>\n",
       "      <td>2020-03-03</td>\n",
       "      <td>Wyles, Cody C.; Hevesi, Mario; Ubl, Daniel S.;...</td>\n",
       "      <td>JB JS Open Access</td>\n",
       "      <td>3.011605e+09</td>\n",
       "      <td>NaN</td>\n",
       "      <td>NaN</td>\n",
       "      <td>document_parses/pdf_json/22157ea7b67731d48e7a0...</td>\n",
       "      <td>document_parses/pmc_json/PMC7147632.xml.json</td>\n",
       "      <td>https://www.ncbi.nlm.nih.gov/pmc/articles/PMC7...</td>\n",
       "      <td>NaN</td>\n",
       "    </tr>\n",
       "    <tr>\n",
       "      <th>1</th>\n",
       "      <td>7t3och3v</td>\n",
       "      <td>NaN</td>\n",
       "      <td>PMC</td>\n",
       "      <td>Development and Clinical Evaluation of a Web-B...</td>\n",
       "      <td>10.2196/17216</td>\n",
       "      <td>PMC7380903</td>\n",
       "      <td>32480361</td>\n",
       "      <td>cc-by</td>\n",
       "      <td>BACKGROUND: Recent advancements in wearable se...</td>\n",
       "      <td>2020-07-09</td>\n",
       "      <td>Chae, Sang Hoon; Kim, Yushin; Lee, Kyoung-Soub...</td>\n",
       "      <td>JMIR Mhealth Uhealth</td>\n",
       "      <td>3.024384e+09</td>\n",
       "      <td>NaN</td>\n",
       "      <td>NaN</td>\n",
       "      <td>NaN</td>\n",
       "      <td>document_parses/pmc_json/PMC7380903.xml.json</td>\n",
       "      <td>https://www.ncbi.nlm.nih.gov/pmc/articles/PMC7...</td>\n",
       "      <td>NaN</td>\n",
       "    </tr>\n",
       "    <tr>\n",
       "      <th>2</th>\n",
       "      <td>h5jfrj2p</td>\n",
       "      <td>02d0ce9f28d04f69024ffbace2a931a05cb44555</td>\n",
       "      <td>PMC</td>\n",
       "      <td>Genetic characterization of the spike gene of ...</td>\n",
       "      <td>10.1002/vms3.256</td>\n",
       "      <td>PMC7397879</td>\n",
       "      <td>32159913</td>\n",
       "      <td>cc-by-nc-nd</td>\n",
       "      <td>BACKGROUND: Porcine epidemic diarrhea (PED) is...</td>\n",
       "      <td>2020-03-11</td>\n",
       "      <td>Than, Van T.; Choe, Se‐Eun; Vu, Thi T. H.; Do,...</td>\n",
       "      <td>Vet Med Sci</td>\n",
       "      <td>3.010941e+09</td>\n",
       "      <td>NaN</td>\n",
       "      <td>NaN</td>\n",
       "      <td>document_parses/pdf_json/02d0ce9f28d04f69024ff...</td>\n",
       "      <td>document_parses/pmc_json/PMC7397879.xml.json</td>\n",
       "      <td>https://www.ncbi.nlm.nih.gov/pmc/articles/PMC7...</td>\n",
       "      <td>NaN</td>\n",
       "    </tr>\n",
       "    <tr>\n",
       "      <th>3</th>\n",
       "      <td>grzrkff9</td>\n",
       "      <td>NaN</td>\n",
       "      <td>PMC</td>\n",
       "      <td>Dermatological Manifestations in Patients With...</td>\n",
       "      <td>10.7759/cureus.9446</td>\n",
       "      <td>PMC7402433</td>\n",
       "      <td>NaN</td>\n",
       "      <td>cc-by</td>\n",
       "      <td>Severe acute respiratory syndrome coronavirus ...</td>\n",
       "      <td>2020-07-28</td>\n",
       "      <td>Almutairi, Abdulelah; Alfaleh, Mohammed; Alash...</td>\n",
       "      <td>NaN</td>\n",
       "      <td>3.046186e+09</td>\n",
       "      <td>NaN</td>\n",
       "      <td>NaN</td>\n",
       "      <td>NaN</td>\n",
       "      <td>document_parses/pmc_json/PMC7402433.xml.json</td>\n",
       "      <td>https://www.ncbi.nlm.nih.gov/pmc/articles/PMC7...</td>\n",
       "      <td>NaN</td>\n",
       "    </tr>\n",
       "    <tr>\n",
       "      <th>4</th>\n",
       "      <td>jyq76m81</td>\n",
       "      <td>NaN</td>\n",
       "      <td>PMC</td>\n",
       "      <td>COVID-19: Reduced Lung Function and Increased ...</td>\n",
       "      <td>10.6026/97320630016293</td>\n",
       "      <td>PMC7392087</td>\n",
       "      <td>NaN</td>\n",
       "      <td>cc-by</td>\n",
       "      <td>The COVID-19 outbreak causing reduced lung fun...</td>\n",
       "      <td>2020-04-30</td>\n",
       "      <td>Wu, Dongyuan; Ellis, Dorothy; Datta, Susmita</td>\n",
       "      <td>Bioinformation</td>\n",
       "      <td>3.015175e+09</td>\n",
       "      <td>NaN</td>\n",
       "      <td>NaN</td>\n",
       "      <td>NaN</td>\n",
       "      <td>document_parses/pmc_json/PMC7392087.xml.json</td>\n",
       "      <td>https://www.ncbi.nlm.nih.gov/pmc/articles/PMC7...</td>\n",
       "      <td>NaN</td>\n",
       "    </tr>\n",
       "  </tbody>\n",
       "</table>\n",
       "</div>"
      ],
      "text/plain": [
       "   cord_uid                                       sha source_x  \\\n",
       "0  btb0y11u  22157ea7b67731d48e7a0b4f08741d0d6337d84d      PMC   \n",
       "1  7t3och3v                                       NaN      PMC   \n",
       "2  h5jfrj2p  02d0ce9f28d04f69024ffbace2a931a05cb44555      PMC   \n",
       "3  grzrkff9                                       NaN      PMC   \n",
       "4  jyq76m81                                       NaN      PMC   \n",
       "\n",
       "                                               title  \\\n",
       "0  Implementation of Procedure-Specific Opioid Gu...   \n",
       "1  Development and Clinical Evaluation of a Web-B...   \n",
       "2  Genetic characterization of the spike gene of ...   \n",
       "3  Dermatological Manifestations in Patients With...   \n",
       "4  COVID-19: Reduced Lung Function and Increased ...   \n",
       "\n",
       "                        doi       pmcid pubmed_id      license  \\\n",
       "0  10.2106/jbjs.oa.19.00050  PMC7147632  32309760  cc-by-nc-nd   \n",
       "1             10.2196/17216  PMC7380903  32480361        cc-by   \n",
       "2          10.1002/vms3.256  PMC7397879  32159913  cc-by-nc-nd   \n",
       "3       10.7759/cureus.9446  PMC7402433       NaN        cc-by   \n",
       "4    10.6026/97320630016293  PMC7392087       NaN        cc-by   \n",
       "\n",
       "                                            abstract publish_time  \\\n",
       "0  BACKGROUND: Evidence-based, procedure-specific...   2020-03-03   \n",
       "1  BACKGROUND: Recent advancements in wearable se...   2020-07-09   \n",
       "2  BACKGROUND: Porcine epidemic diarrhea (PED) is...   2020-03-11   \n",
       "3  Severe acute respiratory syndrome coronavirus ...   2020-07-28   \n",
       "4  The COVID-19 outbreak causing reduced lung fun...   2020-04-30   \n",
       "\n",
       "                                             authors               journal  \\\n",
       "0  Wyles, Cody C.; Hevesi, Mario; Ubl, Daniel S.;...     JB JS Open Access   \n",
       "1  Chae, Sang Hoon; Kim, Yushin; Lee, Kyoung-Soub...  JMIR Mhealth Uhealth   \n",
       "2  Than, Van T.; Choe, Se‐Eun; Vu, Thi T. H.; Do,...           Vet Med Sci   \n",
       "3  Almutairi, Abdulelah; Alfaleh, Mohammed; Alash...                   NaN   \n",
       "4       Wu, Dongyuan; Ellis, Dorothy; Datta, Susmita        Bioinformation   \n",
       "\n",
       "         mag_id who_covidence_id arxiv_id  \\\n",
       "0  3.011605e+09              NaN      NaN   \n",
       "1  3.024384e+09              NaN      NaN   \n",
       "2  3.010941e+09              NaN      NaN   \n",
       "3  3.046186e+09              NaN      NaN   \n",
       "4  3.015175e+09              NaN      NaN   \n",
       "\n",
       "                                      pdf_json_files  \\\n",
       "0  document_parses/pdf_json/22157ea7b67731d48e7a0...   \n",
       "1                                                NaN   \n",
       "2  document_parses/pdf_json/02d0ce9f28d04f69024ff...   \n",
       "3                                                NaN   \n",
       "4                                                NaN   \n",
       "\n",
       "                                 pmc_json_files  \\\n",
       "0  document_parses/pmc_json/PMC7147632.xml.json   \n",
       "1  document_parses/pmc_json/PMC7380903.xml.json   \n",
       "2  document_parses/pmc_json/PMC7397879.xml.json   \n",
       "3  document_parses/pmc_json/PMC7402433.xml.json   \n",
       "4  document_parses/pmc_json/PMC7392087.xml.json   \n",
       "\n",
       "                                                 url  s2_id  \n",
       "0  https://www.ncbi.nlm.nih.gov/pmc/articles/PMC7...    NaN  \n",
       "1  https://www.ncbi.nlm.nih.gov/pmc/articles/PMC7...    NaN  \n",
       "2  https://www.ncbi.nlm.nih.gov/pmc/articles/PMC7...    NaN  \n",
       "3  https://www.ncbi.nlm.nih.gov/pmc/articles/PMC7...    NaN  \n",
       "4  https://www.ncbi.nlm.nih.gov/pmc/articles/PMC7...    NaN  "
      ]
     },
     "execution_count": 2,
     "metadata": {},
     "output_type": "execute_result"
    }
   ],
   "source": [
    "# load the csv file into a DataFrame\n",
    "df = pd.read_csv('Research_text_files.csv', low_memory=False)\n",
    "\n",
    "#Show the first 5 rows\n",
    "df.head()"
   ]
  },
  {
   "cell_type": "markdown",
   "id": "5db1cb9d",
   "metadata": {},
   "source": [
    "Check Shape of the DataFrame"
   ]
  },
  {
   "cell_type": "code",
   "execution_count": 3,
   "id": "589db070",
   "metadata": {},
   "outputs": [
    {
     "data": {
      "text/plain": [
       "(218052, 19)"
      ]
     },
     "execution_count": 3,
     "metadata": {},
     "output_type": "execute_result"
    }
   ],
   "source": [
    "df.shape"
   ]
  },
  {
   "cell_type": "markdown",
   "id": "d661adad",
   "metadata": {},
   "source": [
    "218,052 rows and 19 columns"
   ]
  },
  {
   "cell_type": "markdown",
   "id": "1fa21b98",
   "metadata": {},
   "source": [
    "Dsiplay Column Names and Data Types"
   ]
  },
  {
   "cell_type": "code",
   "execution_count": 4,
   "id": "3682a60c",
   "metadata": {},
   "outputs": [
    {
     "name": "stdout",
     "output_type": "stream",
     "text": [
      "<class 'pandas.core.frame.DataFrame'>\n",
      "RangeIndex: 218052 entries, 0 to 218051\n",
      "Data columns (total 19 columns):\n",
      " #   Column            Non-Null Count   Dtype  \n",
      "---  ------            --------------   -----  \n",
      " 0   cord_uid          218052 non-null  object \n",
      " 1   sha               80739 non-null   object \n",
      " 2   source_x          218052 non-null  object \n",
      " 3   title             217994 non-null  object \n",
      " 4   doi               149025 non-null  object \n",
      " 5   pmcid             86312 non-null   object \n",
      " 6   pubmed_id         127139 non-null  object \n",
      " 7   license           218052 non-null  object \n",
      " 8   abstract          157011 non-null  object \n",
      " 9   publish_time      218034 non-null  object \n",
      " 10  authors           211189 non-null  object \n",
      " 11  journal           204472 non-null  object \n",
      " 12  mag_id            192390 non-null  float64\n",
      " 13  who_covidence_id  69593 non-null   object \n",
      " 14  arxiv_id          2902 non-null    object \n",
      " 15  pdf_json_files    80739 non-null   object \n",
      " 16  pmc_json_files    62855 non-null   object \n",
      " 17  url               169279 non-null  object \n",
      " 18  s2_id             183063 non-null  float64\n",
      "dtypes: float64(2), object(17)\n",
      "memory usage: 31.6+ MB\n"
     ]
    }
   ],
   "source": [
    "df.info()"
   ]
  },
  {
   "cell_type": "markdown",
   "id": "d1697514",
   "metadata": {},
   "source": [
    "Check for Missing Values"
   ]
  },
  {
   "cell_type": "code",
   "execution_count": 6,
   "id": "98addae6",
   "metadata": {},
   "outputs": [
    {
     "data": {
      "application/vnd.microsoft.datawrangler.viewer.v0+json": {
       "columns": [
        {
         "name": "index",
         "rawType": "object",
         "type": "string"
        },
        {
         "name": "0",
         "rawType": "int64",
         "type": "integer"
        }
       ],
       "ref": "be08461f-2ca6-4ff1-acad-b0cd17462f09",
       "rows": [
        [
         "arxiv_id",
         "215150"
        ],
        [
         "pmc_json_files",
         "155197"
        ],
        [
         "who_covidence_id",
         "148459"
        ],
        [
         "sha",
         "137313"
        ],
        [
         "pdf_json_files",
         "137313"
        ],
        [
         "pmcid",
         "131740"
        ],
        [
         "pubmed_id",
         "90913"
        ],
        [
         "doi",
         "69027"
        ],
        [
         "abstract",
         "61041"
        ],
        [
         "url",
         "48773"
        ],
        [
         "s2_id",
         "34989"
        ],
        [
         "mag_id",
         "25662"
        ],
        [
         "journal",
         "13580"
        ],
        [
         "authors",
         "6863"
        ],
        [
         "title",
         "58"
        ],
        [
         "publish_time",
         "18"
        ],
        [
         "cord_uid",
         "0"
        ],
        [
         "source_x",
         "0"
        ],
        [
         "license",
         "0"
        ]
       ],
       "shape": {
        "columns": 1,
        "rows": 19
       }
      },
      "text/plain": [
       "arxiv_id            215150\n",
       "pmc_json_files      155197\n",
       "who_covidence_id    148459\n",
       "sha                 137313\n",
       "pdf_json_files      137313\n",
       "pmcid               131740\n",
       "pubmed_id            90913\n",
       "doi                  69027\n",
       "abstract             61041\n",
       "url                  48773\n",
       "s2_id                34989\n",
       "mag_id               25662\n",
       "journal              13580\n",
       "authors               6863\n",
       "title                   58\n",
       "publish_time            18\n",
       "cord_uid                 0\n",
       "source_x                 0\n",
       "license                  0\n",
       "dtype: int64"
      ]
     },
     "execution_count": 6,
     "metadata": {},
     "output_type": "execute_result"
    }
   ],
   "source": [
    "df.isnull().sum().sort_values(ascending=False)"
   ]
  },
  {
   "cell_type": "markdown",
   "id": "5c3f76e7",
   "metadata": {},
   "source": [
    "Part 2: Data Cleaning & Preparation\n",
    "\n",
    "Convert publish_Time to datetime"
   ]
  },
  {
   "cell_type": "code",
   "execution_count": 7,
   "id": "1e28b218",
   "metadata": {},
   "outputs": [
    {
     "data": {
      "application/vnd.microsoft.datawrangler.viewer.v0+json": {
       "columns": [
        {
         "name": "index",
         "rawType": "int64",
         "type": "integer"
        },
        {
         "name": "publish_time",
         "rawType": "datetime64[ns]",
         "type": "datetime"
        }
       ],
       "ref": "411a98d9-6141-4f52-a46d-885b1e2a9b4a",
       "rows": [
        [
         "0",
         "2020-03-03 00:00:00"
        ],
        [
         "1",
         "2020-07-09 00:00:00"
        ],
        [
         "2",
         "2020-03-11 00:00:00"
        ],
        [
         "3",
         "2020-07-28 00:00:00"
        ],
        [
         "4",
         "2020-04-30 00:00:00"
        ]
       ],
       "shape": {
        "columns": 1,
        "rows": 5
       }
      },
      "text/html": [
       "<div>\n",
       "<style scoped>\n",
       "    .dataframe tbody tr th:only-of-type {\n",
       "        vertical-align: middle;\n",
       "    }\n",
       "\n",
       "    .dataframe tbody tr th {\n",
       "        vertical-align: top;\n",
       "    }\n",
       "\n",
       "    .dataframe thead th {\n",
       "        text-align: right;\n",
       "    }\n",
       "</style>\n",
       "<table border=\"1\" class=\"dataframe\">\n",
       "  <thead>\n",
       "    <tr style=\"text-align: right;\">\n",
       "      <th></th>\n",
       "      <th>publish_time</th>\n",
       "    </tr>\n",
       "  </thead>\n",
       "  <tbody>\n",
       "    <tr>\n",
       "      <th>0</th>\n",
       "      <td>2020-03-03</td>\n",
       "    </tr>\n",
       "    <tr>\n",
       "      <th>1</th>\n",
       "      <td>2020-07-09</td>\n",
       "    </tr>\n",
       "    <tr>\n",
       "      <th>2</th>\n",
       "      <td>2020-03-11</td>\n",
       "    </tr>\n",
       "    <tr>\n",
       "      <th>3</th>\n",
       "      <td>2020-07-28</td>\n",
       "    </tr>\n",
       "    <tr>\n",
       "      <th>4</th>\n",
       "      <td>2020-04-30</td>\n",
       "    </tr>\n",
       "  </tbody>\n",
       "</table>\n",
       "</div>"
      ],
      "text/plain": [
       "  publish_time\n",
       "0   2020-03-03\n",
       "1   2020-07-09\n",
       "2   2020-03-11\n",
       "3   2020-07-28\n",
       "4   2020-04-30"
      ]
     },
     "execution_count": 7,
     "metadata": {},
     "output_type": "execute_result"
    }
   ],
   "source": [
    "# convert 'publish_time' to datetime\n",
    "df['publish_time'] = pd.to_datetime(df['publish_time'], errors='coerce')\n",
    "\n",
    "# show the first 5 rows to verify the change\n",
    "df[['publish_time']].head()"
   ]
  },
  {
   "cell_type": "markdown",
   "id": "3f00d78d",
   "metadata": {},
   "source": [
    "Extract Year From Publish Time\n"
   ]
  },
  {
   "cell_type": "code",
   "execution_count": 8,
   "id": "a887fb08",
   "metadata": {},
   "outputs": [
    {
     "data": {
      "application/vnd.microsoft.datawrangler.viewer.v0+json": {
       "columns": [
        {
         "name": "year",
         "rawType": "float64",
         "type": "float"
        },
        {
         "name": "count",
         "rawType": "int64",
         "type": "integer"
        }
       ],
       "ref": "f7ecd51a-712d-490a-8d1f-569271a82a7e",
       "rows": [
        [
         "1955.0",
         "1"
        ],
        [
         "1957.0",
         "2"
        ],
        [
         "1961.0",
         "1"
        ],
        [
         "1962.0",
         "1"
        ],
        [
         "1963.0",
         "1"
        ],
        [
         "1964.0",
         "2"
        ],
        [
         "1965.0",
         "1"
        ],
        [
         "1967.0",
         "1"
        ],
        [
         "1968.0",
         "1"
        ],
        [
         "1969.0",
         "3"
        ],
        [
         "1970.0",
         "9"
        ],
        [
         "1971.0",
         "7"
        ],
        [
         "1972.0",
         "13"
        ],
        [
         "1973.0",
         "11"
        ],
        [
         "1974.0",
         "14"
        ],
        [
         "1975.0",
         "20"
        ],
        [
         "1976.0",
         "17"
        ],
        [
         "1977.0",
         "24"
        ],
        [
         "1978.0",
         "26"
        ],
        [
         "1979.0",
         "19"
        ],
        [
         "1980.0",
         "31"
        ],
        [
         "1981.0",
         "43"
        ],
        [
         "1982.0",
         "37"
        ],
        [
         "1983.0",
         "40"
        ],
        [
         "1984.0",
         "63"
        ],
        [
         "1985.0",
         "71"
        ],
        [
         "1986.0",
         "79"
        ],
        [
         "1987.0",
         "89"
        ],
        [
         "1988.0",
         "93"
        ],
        [
         "1989.0",
         "102"
        ],
        [
         "1990.0",
         "107"
        ],
        [
         "1991.0",
         "122"
        ],
        [
         "1992.0",
         "152"
        ],
        [
         "1993.0",
         "101"
        ],
        [
         "1994.0",
         "103"
        ],
        [
         "1995.0",
         "97"
        ],
        [
         "1996.0",
         "100"
        ],
        [
         "1997.0",
         "113"
        ],
        [
         "1998.0",
         "150"
        ],
        [
         "1999.0",
         "185"
        ],
        [
         "2000.0",
         "207"
        ],
        [
         "2001.0",
         "202"
        ],
        [
         "2002.0",
         "704"
        ],
        [
         "2003.0",
         "824"
        ],
        [
         "2004.0",
         "1620"
        ],
        [
         "2005.0",
         "1532"
        ],
        [
         "2006.0",
         "1730"
        ],
        [
         "2007.0",
         "1652"
        ],
        [
         "2008.0",
         "2126"
        ],
        [
         "2009.0",
         "2487"
        ]
       ],
       "shape": {
        "columns": 1,
        "rows": 62
       }
      },
      "text/plain": [
       "year\n",
       "1955.0        1\n",
       "1957.0        2\n",
       "1961.0        1\n",
       "1962.0        1\n",
       "1963.0        1\n",
       "          ...  \n",
       "2017.0     3614\n",
       "2018.0     3770\n",
       "2019.0     4810\n",
       "2020.0    66674\n",
       "2021.0        8\n",
       "Name: count, Length: 62, dtype: int64"
      ]
     },
     "execution_count": 8,
     "metadata": {},
     "output_type": "execute_result"
    }
   ],
   "source": [
    "# Create a new column 'year' extracted from publish_time\n",
    "df['year'] = df['publish_time'].dt.year\n",
    "\n",
    "# check unique values  of year\n",
    "df['year'].value_counts().sort_index()"
   ]
  },
  {
   "cell_type": "markdown",
   "id": "3ebd40af",
   "metadata": {},
   "source": [
    "Check Missing Values in Key Columns"
   ]
  },
  {
   "cell_type": "code",
   "execution_count": 9,
   "id": "be1a75b3",
   "metadata": {},
   "outputs": [
    {
     "data": {
      "application/vnd.microsoft.datawrangler.viewer.v0+json": {
       "columns": [
        {
         "name": "index",
         "rawType": "object",
         "type": "string"
        },
        {
         "name": "0",
         "rawType": "int64",
         "type": "integer"
        }
       ],
       "ref": "c2911374-9c19-4fb9-8aec-3e88c2602453",
       "rows": [
        [
         "title",
         "58"
        ],
        [
         "abstract",
         "61041"
        ],
        [
         "authors",
         "6863"
        ],
        [
         "journal",
         "13580"
        ],
        [
         "publish_time",
         "104153"
        ],
        [
         "year",
         "104153"
        ]
       ],
       "shape": {
        "columns": 1,
        "rows": 6
       }
      },
      "text/plain": [
       "title               58\n",
       "abstract         61041\n",
       "authors           6863\n",
       "journal          13580\n",
       "publish_time    104153\n",
       "year            104153\n",
       "dtype: int64"
      ]
     },
     "execution_count": 9,
     "metadata": {},
     "output_type": "execute_result"
    }
   ],
   "source": [
    "df[['title', 'abstract', 'authors', 'journal', 'publish_time', 'year']].isnull().sum()"
   ]
  },
  {
   "cell_type": "markdown",
   "id": "6ff4df10",
   "metadata": {},
   "source": [
    "Remove or Keep Missing Data\n",
    "\n",
    "To clean the dataset, we remove only rows where title or publish_time is missing "
   ]
  },
  {
   "cell_type": "code",
   "execution_count": 10,
   "id": "f944ed2e",
   "metadata": {},
   "outputs": [
    {
     "name": "stdout",
     "output_type": "stream",
     "text": [
      "Before cleaning: (218052, 20)\n",
      "After cleaning: (113850, 20)\n"
     ]
    }
   ],
   "source": [
    "# create a cleaned version of the dataset\n",
    "df_clean = df.dropna(subset=['title', 'publish_time']).copy()\n",
    "\n",
    "# show shape before and after cleaning\n",
    "print(\"Before cleaning:\", df.shape)\n",
    "print(\"After cleaning:\", df_clean.shape)"
   ]
  },
  {
   "cell_type": "markdown",
   "id": "03e44f39",
   "metadata": {},
   "source": [
    "This keeps most of the data while removing incomplete rows."
   ]
  },
  {
   "cell_type": "markdown",
   "id": "88e1c1b1",
   "metadata": {},
   "source": [
    "Create a New Feature: Abstract Word Count"
   ]
  },
  {
   "cell_type": "code",
   "execution_count": 12,
   "id": "0fa87661",
   "metadata": {},
   "outputs": [
    {
     "name": "stdout",
     "output_type": "stream",
     "text": [
      "Cleaned dataset saved to 'Research_text_files_cleaned.csv'\n"
     ]
    }
   ],
   "source": [
    "# create abstract word count feature\n",
    "df_clean['abstract_word_count'] = df_clean['abstract'].fillna('').apply(lambda x: len(x.split()))\n",
    "\n",
    "# show the first 5 rows to verify\n",
    "df_clean[['abstract', 'abstract_word_count']].head()\n",
    "\n",
    "# save the cleaned dataset to a new CSV file\n",
    "df_clean.to_csv('Research_text_files_cleaned.csv', index=False)\n",
    "print(\"Cleaned dataset saved to 'Research_text_files_cleaned.csv'\")"
   ]
  },
  {
   "cell_type": "markdown",
   "id": "eb2dad3e",
   "metadata": {},
   "source": [
    "Part 3: Data Analysis & Visualization\n",
    "\n",
    "Load the Cleaned Dataset"
   ]
  },
  {
   "cell_type": "code",
   "execution_count": 13,
   "id": "bfcf2d9a",
   "metadata": {},
   "outputs": [
    {
     "name": "stderr",
     "output_type": "stream",
     "text": [
      "C:\\Users\\Achuka\\AppData\\Local\\Temp\\ipykernel_14656\\1378943051.py:6: DtypeWarning: Columns (6,14) have mixed types. Specify dtype option on import or set low_memory=False.\n",
      "  df_clean = pd.read_csv('Research_text_files_cleaned.csv',)\n"
     ]
    },
    {
     "data": {
      "application/vnd.microsoft.datawrangler.viewer.v0+json": {
       "columns": [
        {
         "name": "index",
         "rawType": "int64",
         "type": "integer"
        },
        {
         "name": "cord_uid",
         "rawType": "object",
         "type": "string"
        },
        {
         "name": "sha",
         "rawType": "object",
         "type": "unknown"
        },
        {
         "name": "source_x",
         "rawType": "object",
         "type": "string"
        },
        {
         "name": "title",
         "rawType": "object",
         "type": "string"
        },
        {
         "name": "doi",
         "rawType": "object",
         "type": "string"
        },
        {
         "name": "pmcid",
         "rawType": "object",
         "type": "string"
        },
        {
         "name": "pubmed_id",
         "rawType": "object",
         "type": "unknown"
        },
        {
         "name": "license",
         "rawType": "object",
         "type": "string"
        },
        {
         "name": "abstract",
         "rawType": "object",
         "type": "string"
        },
        {
         "name": "publish_time",
         "rawType": "object",
         "type": "string"
        },
        {
         "name": "authors",
         "rawType": "object",
         "type": "string"
        },
        {
         "name": "journal",
         "rawType": "object",
         "type": "unknown"
        },
        {
         "name": "mag_id",
         "rawType": "float64",
         "type": "float"
        },
        {
         "name": "who_covidence_id",
         "rawType": "object",
         "type": "unknown"
        },
        {
         "name": "arxiv_id",
         "rawType": "object",
         "type": "unknown"
        },
        {
         "name": "pdf_json_files",
         "rawType": "object",
         "type": "unknown"
        },
        {
         "name": "pmc_json_files",
         "rawType": "object",
         "type": "string"
        },
        {
         "name": "url",
         "rawType": "object",
         "type": "string"
        },
        {
         "name": "s2_id",
         "rawType": "float64",
         "type": "float"
        },
        {
         "name": "year",
         "rawType": "float64",
         "type": "float"
        },
        {
         "name": "abstract_word_count",
         "rawType": "int64",
         "type": "integer"
        }
       ],
       "ref": "f4437ebb-c20a-41a6-866c-b0a8496c692e",
       "rows": [
        [
         "0",
         "btb0y11u",
         "22157ea7b67731d48e7a0b4f08741d0d6337d84d",
         "PMC",
         "Implementation of Procedure-Specific Opioid Guidelines: A Readily Employable Strategy to Improve Consistency and Decrease Excessive Prescribing Following Orthopaedic Surgery",
         "10.2106/jbjs.oa.19.00050",
         "PMC7147632",
         "32309760",
         "cc-by-nc-nd",
         "BACKGROUND: Evidence-based, procedure-specific guidelines for prescribing opioids are urgently needed to optimize pain relief while minimizing excessive opioid prescribing and potential opioid diversion in our communities. A multidisciplinary panel at our institution recently developed procedure-specific guidelines for discharge opioid prescriptions for common orthopaedic surgical procedures. The purpose of this study was to evaluate postoperative opioid prescription quantities, variability, and 30-day refill rates before and after implementation of the guidelines. METHODS: This retrospective cohort study was conducted at a single academic institution from December 2016 to March 2018. Guidelines were implemented on August 1, 2017, with a recommended maximum opioid prescription quantity for 14 common orthopaedic procedures. Patients who underwent these 14 procedures during the period of December 2016 to May 2017 made up the pre-guideline cohort (n = 2,223), and patients who underwent these procedures from October 2017 to March 2018 made up the post-guideline cohort (n = 2,300). Opioid prescription quantities were reported as oral morphine equivalents (OME), with medians and interquartile ranges (IQRs). Four levels were established for recommended prescription maximums, ranging from 100 to 400 OME. RESULTS: In the pre-guideline cohort, the median amount of prescribed opioids across all procedures was 600 OME (IQR, 390 to 863 OME), which decreased by 38% in the post-guideline period, to a median of 375 OME (IQR, 239 to 400 OME) in the post-guideline cohort (p < 0.001). The 30-day refill rate did not change significantly, from a rate of 24% in the pre-guideline cohort to 25% in the post-guideline cohort (p = 0.43). Multivariable analysis demonstrated that guideline implementation was the factor most strongly associated with prescriptions exceeding guideline maximums (odds ratio [OR] = 9.9; p < 0.001). Age groups of <80 years (OR = 2.0 to 2.4; p < 0.001) and males (OR = 1.2; p = 0.025) were also shown to have higher odds of exceeding guideline maximums. CONCLUSIONS: Procedure-specific guidelines are capable of substantially decreasing opioid prescription amounts and variability. Furthermore, the absence of change in refill rates suggests that pain control remains similar to pre-guideline prescribing practices. Evidence-based guidelines are a readily employable solution that can drive rapid change in practice and enhance the ability of orthopaedic surgeons to provide responsible pain management.",
         "2020-03-03",
         "Wyles, Cody C.; Hevesi, Mario; Ubl, Daniel S.; Habermann, Elizabeth B.; Gazelka, Halena M.; Trousdale, Robert T.; Turner, Norman S.; Pagnano, Mark W.; Mabry, Tad M.",
         "JB JS Open Access",
         "3011605437.0",
         null,
         null,
         "document_parses/pdf_json/22157ea7b67731d48e7a0b4f08741d0d6337d84d.json",
         "document_parses/pmc_json/PMC7147632.xml.json",
         "https://www.ncbi.nlm.nih.gov/pmc/articles/PMC7147632/",
         null,
         "2020.0",
         "367"
        ],
        [
         "1",
         "7t3och3v",
         null,
         "PMC",
         "Development and Clinical Evaluation of a Web-Based Upper Limb Home Rehabilitation System Using a Smartwatch and Machine Learning Model for Chronic Stroke Survivors: Prospective Comparative Study",
         "10.2196/17216",
         "PMC7380903",
         "32480361",
         "cc-by",
         "BACKGROUND: Recent advancements in wearable sensor technology have shown the feasibility of remote physical therapy at home. In particular, the current COVID-19 pandemic has revealed the need and opportunity of internet-based wearable technology in future health care systems. Previous research has shown the feasibility of human activity recognition technologies for monitoring rehabilitation activities in home environments; however, few comprehensive studies ranging from development to clinical evaluation exist. OBJECTIVE: This study aimed to (1) develop a home-based rehabilitation (HBR) system that can recognize and record the type and frequency of rehabilitation exercises conducted by the user using a smartwatch and smartphone app equipped with a machine learning (ML) algorithm and (2) evaluate the efficacy of the home-based rehabilitation system through a prospective comparative study with chronic stroke survivors. METHODS: The HBR system involves an off-the-shelf smartwatch, a smartphone, and custom-developed apps. A convolutional neural network was used to train the ML algorithm for detecting home exercises. To determine the most accurate way for detecting the type of home exercise, we compared accuracy results with the data sets of personal or total data and accelerometer, gyroscope, or accelerometer combined with gyroscope data. From March 2018 to February 2019, we conducted a clinical study with two groups of stroke survivors. In total, 17 and 6 participants were enrolled for statistical analysis in the HBR group and control group, respectively. To measure clinical outcomes, we performed the Wolf Motor Function Test (WMFT), Fugl-Meyer Assessment of Upper Extremity, grip power test, Beck Depression Inventory, and range of motion (ROM) assessment of the shoulder joint at 0, 6, and 12 months, and at a follow-up assessment 6 weeks after retrieving the HBR system. RESULTS: The ML model created with personal data involving accelerometer combined with gyroscope data (5590/5601, 99.80%) was the most accurate compared with accelerometer (5496/5601, 98.13%) or gyroscope data (5381/5601, 96.07%). In the comparative study, the drop-out rates in the control and HBR groups were 40% (4/10) and 22% (5/22) at 12 weeks and 100% (10/10) and 45% (10/22) at 18 weeks, respectively. The HBR group (n=17) showed a significant improvement in the mean WMFT score (P=.02) and ROM of flexion (P=.004) and internal rotation (P=.001). The control group (n=6) showed a significant change only in shoulder internal rotation (P=.03). CONCLUSIONS: This study found that a home care system using a commercial smartwatch and ML model can facilitate participation in home training and improve the functional score of the WMFT and shoulder ROM of flexion and internal rotation in the treatment of patients with chronic stroke. This strategy can possibly be a cost-effective tool for the home care treatment of stroke survivors in the future. TRIAL REGISTRATION: Clinical Research Information Service KCT0004818; https://tinyurl.com/y92w978t",
         "2020-07-09",
         "Chae, Sang Hoon; Kim, Yushin; Lee, Kyoung-Soub; Park, Hyung-Soon",
         "JMIR Mhealth Uhealth",
         "3024384408.0",
         null,
         null,
         null,
         "document_parses/pmc_json/PMC7380903.xml.json",
         "https://www.ncbi.nlm.nih.gov/pmc/articles/PMC7380903/",
         null,
         "2020.0",
         "449"
        ],
        [
         "2",
         "h5jfrj2p",
         "02d0ce9f28d04f69024ffbace2a931a05cb44555",
         "PMC",
         "Genetic characterization of the spike gene of porcine epidemic diarrhea viruses (PEDVs) circulating in Vietnam from 2015 to 2016",
         "10.1002/vms3.256",
         "PMC7397879",
         "32159913",
         "cc-by-nc-nd",
         "BACKGROUND: Porcine epidemic diarrhea (PED) is a highly contagious swine disease caused by the PED virus (PEDV), which is a member of the family Coronaviridae. Since the first outbreaks in Belgium and the United Kingdom were reported in 1971, PED has spread throughout many countries around the world and causing significant economic loss. This study was conducted to investigate the recent distribution of PEDV strains in Vietnam during the 2015–2016 seasons. METHODS: A total of 30 PED‐specific PCR‐positive intestinal and faecal samples were collected from unvaccinated piglets in Vietnam during the 2015–2016 seasons. The full length of the spike (S) gene of these PEDV strains were analysed to determine their phylogeny and genetic relationship with other available PEDV strains globally. RESULTS: Phylogenetic analysis of the complete S gene sequences revealed that the 28 Vietnamese PEDV strains collected in the northern and central regions clustered in the G2 group (both G2a and G2b sub‐groups), while the other 2 PEDV strains (HUA‐PED176 and HUA‐PED254) collected in the southern region were clustered in the G1/G1b group/sub‐group. The nucleotide (nt) and deduced amino acid (aa) analyses based on the complete S gene sequences showed that the Vietnamese PEDV strains were closely related to each other, sharing nt and aa homology of 93.2%–99.9% and 92.6%–99.9%, respectively. The N‐glycosylation patterns and mutations in the antigenic region were observed in Vietnamese PEDV strains. CONCLUSIONS: This study provides, for the first time, up‐to‐date information on viral circulation and genetic distribution, as well as evidence to assist in the development of effective PEDV vaccines in Vietnam.",
         "2020-03-11",
         "Than, Van T.; Choe, Se‐Eun; Vu, Thi T. H.; Do, Tien D.; Nguyen, Thi L.; Bui, Thi T. N.; Mai, Thi N.; Cha, Ra M.; Song, Daesub; An, Dong‐Jun; Le, Van P.",
         "Vet Med Sci",
         "3010941056.0",
         null,
         null,
         "document_parses/pdf_json/02d0ce9f28d04f69024ffbace2a931a05cb44555.json",
         "document_parses/pmc_json/PMC7397879.xml.json",
         "https://www.ncbi.nlm.nih.gov/pmc/articles/PMC7397879/",
         null,
         "2020.0",
         "257"
        ],
        [
         "3",
         "grzrkff9",
         null,
         "PMC",
         "Dermatological Manifestations in Patients With SARS-CoV-2: A Systematic Review",
         "10.7759/cureus.9446",
         "PMC7402433",
         null,
         "cc-by",
         "Severe acute respiratory syndrome coronavirus 2 (SARS-CoV-2) has been initially defined as a disease of the respiratory tract; however, with the increasing number of patients and announcing that the virus became a pandemic, new systemic clinical manifestations are observed, including dermatological manifestations. However, the identification and characteristics of these manifestations are still controversial. This review article aims to evaluate the medical literature and explore the dermatological clinical manifestations in patients with SARS-CoV-2. The literature was reviewed through MEDLINE®, Ovid, PubMed®, and Embase®. Searching terms included were a combination of \"dermatological\" OR \"skin\" AND \"symptoms\" OR \"manifestations\" AND \"SARS-CoV-2\". The following step was filtering the results to include only original research studies investigating the different types of skin and dermatological clinical manifestations in patients with SARS-CoV-2. A total of 879 studies were retrieved. Following the exclusion of studies on animals and including only studies on humans, 32 studies emerged. Altogether, seven studies were identified as eligible, covering 555 patients with SARS-CoV-2 who had dermatological symptoms. Three studies were retrospective, two studies were prospective, and two studies were case series. Different types of dermatological lesions can occur in patients with SARS-CoV-2, most commonly erythema, urticaria, and varicella-like rash. Dermatological manifestations with SARS-CoV-2 can be misdiagnosed with other conditions. Further studies with robust design are needed.",
         "2020-07-28",
         "Almutairi, Abdulelah; Alfaleh, Mohammed; Alasheikh, Muath",
         null,
         "3046185579.0",
         null,
         null,
         null,
         "document_parses/pmc_json/PMC7402433.xml.json",
         "https://www.ncbi.nlm.nih.gov/pmc/articles/PMC7402433/",
         null,
         "2020.0",
         "213"
        ],
        [
         "4",
         "jyq76m81",
         null,
         "PMC",
         "COVID-19: Reduced Lung Function and Increased Psycho-emotional Stress",
         "10.6026/97320630016293",
         "PMC7392087",
         null,
         "cc-by",
         "The COVID-19 outbreak causing reduced lung function and increased psycho-emotional stress in the community worldwide. Therefore, it is of interest to document such viral outbreak related emotional stress data in the community with known molecular and patho-physiological parameters of the affected individuals. We provide a concise, coherent, critical, precise, specific and direct narration of such events from a community research viewpoint using known molecular data in this editorial.",
         "2020-04-30",
         "Wu, Dongyuan; Ellis, Dorothy; Datta, Susmita",
         "Bioinformation",
         "3015175484.0",
         null,
         null,
         null,
         "document_parses/pmc_json/PMC7392087.xml.json",
         "https://www.ncbi.nlm.nih.gov/pmc/articles/PMC7392087/",
         null,
         "2020.0",
         "68"
        ]
       ],
       "shape": {
        "columns": 21,
        "rows": 5
       }
      },
      "text/html": [
       "<div>\n",
       "<style scoped>\n",
       "    .dataframe tbody tr th:only-of-type {\n",
       "        vertical-align: middle;\n",
       "    }\n",
       "\n",
       "    .dataframe tbody tr th {\n",
       "        vertical-align: top;\n",
       "    }\n",
       "\n",
       "    .dataframe thead th {\n",
       "        text-align: right;\n",
       "    }\n",
       "</style>\n",
       "<table border=\"1\" class=\"dataframe\">\n",
       "  <thead>\n",
       "    <tr style=\"text-align: right;\">\n",
       "      <th></th>\n",
       "      <th>cord_uid</th>\n",
       "      <th>sha</th>\n",
       "      <th>source_x</th>\n",
       "      <th>title</th>\n",
       "      <th>doi</th>\n",
       "      <th>pmcid</th>\n",
       "      <th>pubmed_id</th>\n",
       "      <th>license</th>\n",
       "      <th>abstract</th>\n",
       "      <th>publish_time</th>\n",
       "      <th>...</th>\n",
       "      <th>journal</th>\n",
       "      <th>mag_id</th>\n",
       "      <th>who_covidence_id</th>\n",
       "      <th>arxiv_id</th>\n",
       "      <th>pdf_json_files</th>\n",
       "      <th>pmc_json_files</th>\n",
       "      <th>url</th>\n",
       "      <th>s2_id</th>\n",
       "      <th>year</th>\n",
       "      <th>abstract_word_count</th>\n",
       "    </tr>\n",
       "  </thead>\n",
       "  <tbody>\n",
       "    <tr>\n",
       "      <th>0</th>\n",
       "      <td>btb0y11u</td>\n",
       "      <td>22157ea7b67731d48e7a0b4f08741d0d6337d84d</td>\n",
       "      <td>PMC</td>\n",
       "      <td>Implementation of Procedure-Specific Opioid Gu...</td>\n",
       "      <td>10.2106/jbjs.oa.19.00050</td>\n",
       "      <td>PMC7147632</td>\n",
       "      <td>32309760</td>\n",
       "      <td>cc-by-nc-nd</td>\n",
       "      <td>BACKGROUND: Evidence-based, procedure-specific...</td>\n",
       "      <td>2020-03-03</td>\n",
       "      <td>...</td>\n",
       "      <td>JB JS Open Access</td>\n",
       "      <td>3.011605e+09</td>\n",
       "      <td>NaN</td>\n",
       "      <td>NaN</td>\n",
       "      <td>document_parses/pdf_json/22157ea7b67731d48e7a0...</td>\n",
       "      <td>document_parses/pmc_json/PMC7147632.xml.json</td>\n",
       "      <td>https://www.ncbi.nlm.nih.gov/pmc/articles/PMC7...</td>\n",
       "      <td>NaN</td>\n",
       "      <td>2020.0</td>\n",
       "      <td>367</td>\n",
       "    </tr>\n",
       "    <tr>\n",
       "      <th>1</th>\n",
       "      <td>7t3och3v</td>\n",
       "      <td>NaN</td>\n",
       "      <td>PMC</td>\n",
       "      <td>Development and Clinical Evaluation of a Web-B...</td>\n",
       "      <td>10.2196/17216</td>\n",
       "      <td>PMC7380903</td>\n",
       "      <td>32480361</td>\n",
       "      <td>cc-by</td>\n",
       "      <td>BACKGROUND: Recent advancements in wearable se...</td>\n",
       "      <td>2020-07-09</td>\n",
       "      <td>...</td>\n",
       "      <td>JMIR Mhealth Uhealth</td>\n",
       "      <td>3.024384e+09</td>\n",
       "      <td>NaN</td>\n",
       "      <td>NaN</td>\n",
       "      <td>NaN</td>\n",
       "      <td>document_parses/pmc_json/PMC7380903.xml.json</td>\n",
       "      <td>https://www.ncbi.nlm.nih.gov/pmc/articles/PMC7...</td>\n",
       "      <td>NaN</td>\n",
       "      <td>2020.0</td>\n",
       "      <td>449</td>\n",
       "    </tr>\n",
       "    <tr>\n",
       "      <th>2</th>\n",
       "      <td>h5jfrj2p</td>\n",
       "      <td>02d0ce9f28d04f69024ffbace2a931a05cb44555</td>\n",
       "      <td>PMC</td>\n",
       "      <td>Genetic characterization of the spike gene of ...</td>\n",
       "      <td>10.1002/vms3.256</td>\n",
       "      <td>PMC7397879</td>\n",
       "      <td>32159913</td>\n",
       "      <td>cc-by-nc-nd</td>\n",
       "      <td>BACKGROUND: Porcine epidemic diarrhea (PED) is...</td>\n",
       "      <td>2020-03-11</td>\n",
       "      <td>...</td>\n",
       "      <td>Vet Med Sci</td>\n",
       "      <td>3.010941e+09</td>\n",
       "      <td>NaN</td>\n",
       "      <td>NaN</td>\n",
       "      <td>document_parses/pdf_json/02d0ce9f28d04f69024ff...</td>\n",
       "      <td>document_parses/pmc_json/PMC7397879.xml.json</td>\n",
       "      <td>https://www.ncbi.nlm.nih.gov/pmc/articles/PMC7...</td>\n",
       "      <td>NaN</td>\n",
       "      <td>2020.0</td>\n",
       "      <td>257</td>\n",
       "    </tr>\n",
       "    <tr>\n",
       "      <th>3</th>\n",
       "      <td>grzrkff9</td>\n",
       "      <td>NaN</td>\n",
       "      <td>PMC</td>\n",
       "      <td>Dermatological Manifestations in Patients With...</td>\n",
       "      <td>10.7759/cureus.9446</td>\n",
       "      <td>PMC7402433</td>\n",
       "      <td>NaN</td>\n",
       "      <td>cc-by</td>\n",
       "      <td>Severe acute respiratory syndrome coronavirus ...</td>\n",
       "      <td>2020-07-28</td>\n",
       "      <td>...</td>\n",
       "      <td>NaN</td>\n",
       "      <td>3.046186e+09</td>\n",
       "      <td>NaN</td>\n",
       "      <td>NaN</td>\n",
       "      <td>NaN</td>\n",
       "      <td>document_parses/pmc_json/PMC7402433.xml.json</td>\n",
       "      <td>https://www.ncbi.nlm.nih.gov/pmc/articles/PMC7...</td>\n",
       "      <td>NaN</td>\n",
       "      <td>2020.0</td>\n",
       "      <td>213</td>\n",
       "    </tr>\n",
       "    <tr>\n",
       "      <th>4</th>\n",
       "      <td>jyq76m81</td>\n",
       "      <td>NaN</td>\n",
       "      <td>PMC</td>\n",
       "      <td>COVID-19: Reduced Lung Function and Increased ...</td>\n",
       "      <td>10.6026/97320630016293</td>\n",
       "      <td>PMC7392087</td>\n",
       "      <td>NaN</td>\n",
       "      <td>cc-by</td>\n",
       "      <td>The COVID-19 outbreak causing reduced lung fun...</td>\n",
       "      <td>2020-04-30</td>\n",
       "      <td>...</td>\n",
       "      <td>Bioinformation</td>\n",
       "      <td>3.015175e+09</td>\n",
       "      <td>NaN</td>\n",
       "      <td>NaN</td>\n",
       "      <td>NaN</td>\n",
       "      <td>document_parses/pmc_json/PMC7392087.xml.json</td>\n",
       "      <td>https://www.ncbi.nlm.nih.gov/pmc/articles/PMC7...</td>\n",
       "      <td>NaN</td>\n",
       "      <td>2020.0</td>\n",
       "      <td>68</td>\n",
       "    </tr>\n",
       "  </tbody>\n",
       "</table>\n",
       "<p>5 rows × 21 columns</p>\n",
       "</div>"
      ],
      "text/plain": [
       "   cord_uid                                       sha source_x  \\\n",
       "0  btb0y11u  22157ea7b67731d48e7a0b4f08741d0d6337d84d      PMC   \n",
       "1  7t3och3v                                       NaN      PMC   \n",
       "2  h5jfrj2p  02d0ce9f28d04f69024ffbace2a931a05cb44555      PMC   \n",
       "3  grzrkff9                                       NaN      PMC   \n",
       "4  jyq76m81                                       NaN      PMC   \n",
       "\n",
       "                                               title  \\\n",
       "0  Implementation of Procedure-Specific Opioid Gu...   \n",
       "1  Development and Clinical Evaluation of a Web-B...   \n",
       "2  Genetic characterization of the spike gene of ...   \n",
       "3  Dermatological Manifestations in Patients With...   \n",
       "4  COVID-19: Reduced Lung Function and Increased ...   \n",
       "\n",
       "                        doi       pmcid pubmed_id      license  \\\n",
       "0  10.2106/jbjs.oa.19.00050  PMC7147632  32309760  cc-by-nc-nd   \n",
       "1             10.2196/17216  PMC7380903  32480361        cc-by   \n",
       "2          10.1002/vms3.256  PMC7397879  32159913  cc-by-nc-nd   \n",
       "3       10.7759/cureus.9446  PMC7402433       NaN        cc-by   \n",
       "4    10.6026/97320630016293  PMC7392087       NaN        cc-by   \n",
       "\n",
       "                                            abstract publish_time  ...  \\\n",
       "0  BACKGROUND: Evidence-based, procedure-specific...   2020-03-03  ...   \n",
       "1  BACKGROUND: Recent advancements in wearable se...   2020-07-09  ...   \n",
       "2  BACKGROUND: Porcine epidemic diarrhea (PED) is...   2020-03-11  ...   \n",
       "3  Severe acute respiratory syndrome coronavirus ...   2020-07-28  ...   \n",
       "4  The COVID-19 outbreak causing reduced lung fun...   2020-04-30  ...   \n",
       "\n",
       "                journal        mag_id  who_covidence_id arxiv_id  \\\n",
       "0     JB JS Open Access  3.011605e+09               NaN      NaN   \n",
       "1  JMIR Mhealth Uhealth  3.024384e+09               NaN      NaN   \n",
       "2           Vet Med Sci  3.010941e+09               NaN      NaN   \n",
       "3                   NaN  3.046186e+09               NaN      NaN   \n",
       "4        Bioinformation  3.015175e+09               NaN      NaN   \n",
       "\n",
       "                                      pdf_json_files  \\\n",
       "0  document_parses/pdf_json/22157ea7b67731d48e7a0...   \n",
       "1                                                NaN   \n",
       "2  document_parses/pdf_json/02d0ce9f28d04f69024ff...   \n",
       "3                                                NaN   \n",
       "4                                                NaN   \n",
       "\n",
       "                                 pmc_json_files  \\\n",
       "0  document_parses/pmc_json/PMC7147632.xml.json   \n",
       "1  document_parses/pmc_json/PMC7380903.xml.json   \n",
       "2  document_parses/pmc_json/PMC7397879.xml.json   \n",
       "3  document_parses/pmc_json/PMC7402433.xml.json   \n",
       "4  document_parses/pmc_json/PMC7392087.xml.json   \n",
       "\n",
       "                                                 url s2_id    year  \\\n",
       "0  https://www.ncbi.nlm.nih.gov/pmc/articles/PMC7...   NaN  2020.0   \n",
       "1  https://www.ncbi.nlm.nih.gov/pmc/articles/PMC7...   NaN  2020.0   \n",
       "2  https://www.ncbi.nlm.nih.gov/pmc/articles/PMC7...   NaN  2020.0   \n",
       "3  https://www.ncbi.nlm.nih.gov/pmc/articles/PMC7...   NaN  2020.0   \n",
       "4  https://www.ncbi.nlm.nih.gov/pmc/articles/PMC7...   NaN  2020.0   \n",
       "\n",
       "   abstract_word_count  \n",
       "0                  367  \n",
       "1                  449  \n",
       "2                  257  \n",
       "3                  213  \n",
       "4                   68  \n",
       "\n",
       "[5 rows x 21 columns]"
      ]
     },
     "execution_count": 13,
     "metadata": {},
     "output_type": "execute_result"
    }
   ],
   "source": [
    "import pandas as pd\n",
    "import matplotlib.pyplot as plt\n",
    "%matplotlib inline\n",
    "\n",
    "# load the cleaned dataset\n",
    "df_clean = pd.read_csv('Research_text_files_cleaned.csv',)\n",
    "\n",
    "#show few rows\n",
    "df_clean.head()"
   ]
  },
  {
   "cell_type": "markdown",
   "id": "f068d9ae",
   "metadata": {},
   "source": [
    "Count publication by year"
   ]
  },
  {
   "cell_type": "code",
   "execution_count": 18,
   "id": "72e46d1b",
   "metadata": {},
   "outputs": [
    {
     "data": {
      "application/vnd.microsoft.datawrangler.viewer.v0+json": {
       "columns": [
        {
         "name": "year",
         "rawType": "float64",
         "type": "float"
        },
        {
         "name": "count",
         "rawType": "int64",
         "type": "integer"
        }
       ],
       "ref": "5d23ec54-8881-4fcc-b10b-16b2d271ba63",
       "rows": [
        [
         "1955.0",
         "1"
        ],
        [
         "1957.0",
         "2"
        ],
        [
         "1961.0",
         "1"
        ],
        [
         "1962.0",
         "1"
        ],
        [
         "1963.0",
         "1"
        ],
        [
         "1964.0",
         "2"
        ],
        [
         "1965.0",
         "1"
        ],
        [
         "1967.0",
         "1"
        ],
        [
         "1968.0",
         "1"
        ],
        [
         "1969.0",
         "3"
        ],
        [
         "1970.0",
         "9"
        ],
        [
         "1971.0",
         "7"
        ],
        [
         "1972.0",
         "13"
        ],
        [
         "1973.0",
         "11"
        ],
        [
         "1974.0",
         "14"
        ],
        [
         "1975.0",
         "20"
        ],
        [
         "1976.0",
         "17"
        ],
        [
         "1977.0",
         "24"
        ],
        [
         "1978.0",
         "26"
        ],
        [
         "1979.0",
         "19"
        ],
        [
         "1980.0",
         "31"
        ],
        [
         "1981.0",
         "43"
        ],
        [
         "1982.0",
         "37"
        ],
        [
         "1983.0",
         "40"
        ],
        [
         "1984.0",
         "63"
        ],
        [
         "1985.0",
         "71"
        ],
        [
         "1986.0",
         "79"
        ],
        [
         "1987.0",
         "89"
        ],
        [
         "1988.0",
         "93"
        ],
        [
         "1989.0",
         "102"
        ],
        [
         "1990.0",
         "107"
        ],
        [
         "1991.0",
         "122"
        ],
        [
         "1992.0",
         "152"
        ],
        [
         "1993.0",
         "101"
        ],
        [
         "1994.0",
         "103"
        ],
        [
         "1995.0",
         "97"
        ],
        [
         "1996.0",
         "100"
        ],
        [
         "1997.0",
         "113"
        ],
        [
         "1998.0",
         "150"
        ],
        [
         "1999.0",
         "185"
        ],
        [
         "2000.0",
         "207"
        ],
        [
         "2001.0",
         "202"
        ],
        [
         "2002.0",
         "704"
        ],
        [
         "2003.0",
         "824"
        ],
        [
         "2004.0",
         "1620"
        ],
        [
         "2005.0",
         "1532"
        ],
        [
         "2006.0",
         "1730"
        ],
        [
         "2007.0",
         "1652"
        ],
        [
         "2008.0",
         "2126"
        ],
        [
         "2009.0",
         "2487"
        ]
       ],
       "shape": {
        "columns": 1,
        "rows": 62
       }
      },
      "text/plain": [
       "year\n",
       "1955.0        1\n",
       "1957.0        2\n",
       "1961.0        1\n",
       "1962.0        1\n",
       "1963.0        1\n",
       "          ...  \n",
       "2017.0     3614\n",
       "2018.0     3770\n",
       "2019.0     4810\n",
       "2020.0    66625\n",
       "2021.0        8\n",
       "Name: count, Length: 62, dtype: int64"
      ]
     },
     "execution_count": 18,
     "metadata": {},
     "output_type": "execute_result"
    }
   ],
   "source": [
    "# count paper published each year\n",
    "year_counts = df_clean['year'].value_counts().sort_index()\n",
    "\n",
    "# display the counts\n",
    "year_counts"
   ]
  },
  {
   "cell_type": "markdown",
   "id": "f7c61826",
   "metadata": {},
   "source": [
    "Visualization"
   ]
  },
  {
   "cell_type": "code",
   "execution_count": 15,
   "id": "c4bca70f",
   "metadata": {},
   "outputs": [
    {
     "data": {
      "image/png": "[encoded data removed]",
      "text/plain": [
       "<Figure size 1000x500 with 1 Axes>"
      ]
     },
     "metadata": {},
     "output_type": "display_data"
    }
   ],
   "source": [
    "plt.figure(figsize=(10,5))\n",
    "plt.bar(year_counts.index, year_counts.values, color='skyblue')\n",
    "plt.title('Number of Publications per Year')\n",
    "plt.xlabel('Year')\n",
    "plt.ylabel('Number of papers')\n",
    "plt.show()"
   ]
  },
  {
   "cell_type": "markdown",
   "id": "2e3945d0",
   "metadata": {},
   "source": [
    "Top journals Publishing COVID-19 Papers"
   ]
  },
  {
   "cell_type": "code",
   "execution_count": 17,
   "id": "5d32930d",
   "metadata": {},
   "outputs": [
    {
     "data": {
      "image/png": "[encoded data removed]",
      "text/plain": [
       "<Figure size 1000x500 with 1 Axes>"
      ]
     },
     "metadata": {},
     "output_type": "display_data"
    }
   ],
   "source": [
    "# count journals and show top 10\n",
    "top_journals = df_clean['journal'].value_counts().head(10)\n",
    "top_journals\n",
    "plt.figure(figsize=(10,5))\n",
    "top_journals.plot(kind='bar', color='lightgreen')\n",
    "plt.title('Top 10 Journals Publishing COVID-19 Papers')\n",
    "plt.xlabel('Journal')\n",
    "plt.ylabel('Number of Publications')\n",
    "plt.xticks(rotation=45)\n",
    "plt.show()"
   ]
  },
  {
   "cell_type": "markdown",
   "id": "c19e1f6a",
   "metadata": {},
   "source": [
    "Most Frequent Words in Titles"
   ]
  },
  {
   "cell_type": "code",
   "execution_count": 20,
   "id": "683bb5b1",
   "metadata": {},
   "outputs": [
    {
     "data": {
      "text/plain": [
       "[('covid', 36120),\n",
       " ('with', 15245),\n",
       " ('sars', 9641),\n",
       " ('pandemic', 9456),\n",
       " ('coronavirus', 9305),\n",
       " ('virus', 8473),\n",
       " ('during', 7867),\n",
       " ('from', 7863),\n",
       " ('patients', 7859),\n",
       " ('disease', 7026),\n",
       " ('infection', 7010),\n",
       " ('respiratory', 6862),\n",
       " ('health', 5233),\n",
       " ('analysis', 4400),\n",
       " ('study', 4378),\n",
       " ('viral', 3958),\n",
       " ('clinical', 3949),\n",
       " ('human', 3880),\n",
       " ('acute', 3789),\n",
       " ('care', 3681)]"
      ]
     },
     "execution_count": 20,
     "metadata": {},
     "output_type": "execute_result"
    }
   ],
   "source": [
    "from collections import Counter\n",
    "import re\n",
    "\n",
    "# combine all titles into a single string\n",
    "all_titles = ' '.join(df_clean['title'].dropna()).lower()\n",
    "\n",
    "# Remove punctuation and split into words\n",
    "words = re.findall(r'\\b[a-zA-Z]{4,}\\b', all_titles)\n",
    "\n",
    "# count most common words\n",
    "common_words = Counter(words).most_common(20)\n",
    "common_words"
   ]
  },
  {
   "cell_type": "markdown",
   "id": "60e1074b",
   "metadata": {},
   "source": [
    "Papers by Source"
   ]
  },
  {
   "cell_type": "code",
   "execution_count": 21,
   "id": "533c57e3",
   "metadata": {},
   "outputs": [
    {
     "data": {
      "image/png": "[encoded data removed]",
      "text/plain": [
       "<Figure size 1000x500 with 1 Axes>"
      ]
     },
     "metadata": {},
     "output_type": "display_data"
    }
   ],
   "source": [
    "# count papers by source\n",
    "source_counts = df_clean['source_x'].value_counts()\n",
    "\n",
    "plt.figure(figsize=(10,5))\n",
    "source_counts.head(10).plot(kind='bar', color='coral')\n",
    "plt.title('Top Sources Publishing COVID-19 Papers')\n",
    "plt.xlabel('Source Database')\n",
    "plt.ylabel('Number of Publications')\n",
    "plt.xticks(rotation=45) \n",
    "plt.show()"
   ]
  },
  {
   "cell_type": "markdown",
   "id": "f42bfbd1",
   "metadata": {},
   "source": [
    "Key Insights"
   ]
  },
  {
   "cell_type": "markdown",
   "id": "0b8b917e",
   "metadata": {},
   "source": [
    "| Analysis                 | Insight Example                                    |\n",
    "| ------------------------ | -------------------------------------------------- |\n",
    "| Most published year      | 2020 saw the highest number of publications        |\n",
    "| Top journals             | Example: *medRxiv, BMJ, The Lancet*                |\n",
    "| Word frequency in titles | Common words: “COVID-19”, “SARS-CoV-2”, “pandemic” |\n",
    "| Abstract length          | Average abstract word count calculated             |\n"
   ]
  },
  {
   "cell_type": "markdown",
   "id": "0dadc465",
   "metadata": {},
   "source": [
    "Challenges Faced "
   ]
  },
  {
   "cell_type": "markdown",
   "id": "a3e865e8",
   "metadata": {},
   "source": [
    "| Challenge                     | Solution                                      |\n",
    "| ----------------------------- | --------------------------------------------- |\n",
    "| Missing values in title/date  | Dropped those rows                            |\n",
    "| Different date formats        | Converted using `pd.to_datetime()`            |\n",
    "| Large dataset loading time    | Used `low_memory=False` & efficient filtering |\n",
    "| Word cloud requires text prep | Cleaned text: lowercased, removed stopwords   |\n"
   ]
  }
 ],
 "metadata": {
  "kernelspec": {
   "display_name": "Python 3",
   "language": "python",
   "name": "python3"
  },
  "language_info": {
   "codemirror_mode": {
    "name": "ipython",
    "version": 3
   },
   "file_extension": ".py",
   "mimetype": "text/x-python",
   "name": "python",
   "nbconvert_exporter": "python",
   "pygments_lexer": "ipython3",
   "version": "3.13.7"
  }
 },
 "nbformat": 4,
 "nbformat_minor": 5
}
